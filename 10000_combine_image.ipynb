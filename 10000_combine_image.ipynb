{
 "cells": [
  {
   "cell_type": "code",
   "execution_count": 1,
   "id": "4347fc5a",
   "metadata": {},
   "outputs": [],
   "source": [
    "import os\n",
    "import random\n",
    "import shutil\n"
   ]
  },
  {
   "cell_type": "code",
   "execution_count": 2,
   "id": "c66ac9a0",
   "metadata": {},
   "outputs": [],
   "source": [
    "\n",
    "# ==== CONFIG ====\n",
    "cat_dir = r\"E:\\Code\\project\\Chana\\PetImages\\PetImages\\Cat\"      # Path to folder with cat images\n",
    "dog_dir = r\"E:\\Code\\project\\Chana\\PetImages\\PetImages\\Dog\"       # Path to folder with dog images\n",
    "output_dir =  r\"E:\\Code\\project\\Chana\\Code\\images\"   # Combined output folder"
   ]
  },
  {
   "cell_type": "code",
   "execution_count": 3,
   "id": "1cf16a48",
   "metadata": {},
   "outputs": [],
   "source": [
    "num_cats = 5000 #1000\n",
    "num_dogs = 5000 #1000"
   ]
  },
  {
   "cell_type": "code",
   "execution_count": 4,
   "id": "bb7d6b53",
   "metadata": {},
   "outputs": [],
   "source": [
    "os.makedirs(output_dir, exist_ok=True)"
   ]
  },
  {
   "cell_type": "code",
   "execution_count": 5,
   "id": "eb96d3aa",
   "metadata": {},
   "outputs": [],
   "source": [
    "# ==== Helper: Get images ====\n",
    "def get_image_files(folder, count):\n",
    "    files = [f for f in os.listdir(folder) if f.lower().endswith(('.jpg', '.png', '.jpeg'))]\n",
    "    return random.sample(files, count)"
   ]
  },
  {
   "cell_type": "code",
   "execution_count": 6,
   "id": "bd90bd1b",
   "metadata": {},
   "outputs": [],
   "source": [
    "\n",
    "# ==== Select Images ====\n",
    "cat_images = get_image_files(cat_dir, num_cats)\n",
    "dog_images = get_image_files(dog_dir, num_dogs)\n",
    "\n",
    "# ==== Copy Selected Images ====\n",
    "for i, filename in enumerate(cat_images):\n",
    "    src = os.path.join(cat_dir, filename)\n",
    "    dst = os.path.join(output_dir, f\"cat_{i}.jpg\")\n",
    "    shutil.copyfile(src, dst)\n",
    "\n",
    "for i, filename in enumerate(dog_images):\n",
    "    src = os.path.join(dog_dir, filename)\n",
    "    dst = os.path.join(output_dir, f\"dog_{i}.jpg\")\n",
    "    shutil.copyfile(src, dst)"
   ]
  },
  {
   "cell_type": "code",
   "execution_count": 7,
   "id": "c58f1034",
   "metadata": {},
   "outputs": [
    {
     "name": "stdout",
     "output_type": "stream",
     "text": [
      "✅ Copied 1000 cat and 1000 dog images to: E:\\Code\\project\\Chana\\Code\\images_test\n"
     ]
    }
   ],
   "source": [
    "print(f\"✅ Copied {num_cats} cat and {num_dogs} dog images to: {output_dir}\")"
   ]
  },
  {
   "cell_type": "code",
   "execution_count": null,
   "id": "5b1aff2a",
   "metadata": {},
   "outputs": [],
   "source": []
  }
 ],
 "metadata": {
  "kernelspec": {
   "display_name": "Python 3 (ipykernel)",
   "language": "python",
   "name": "python3"
  },
  "language_info": {
   "codemirror_mode": {
    "name": "ipython",
    "version": 3
   },
   "file_extension": ".py",
   "mimetype": "text/x-python",
   "name": "python",
   "nbconvert_exporter": "python",
   "pygments_lexer": "ipython3",
   "version": "3.10.10"
  }
 },
 "nbformat": 4,
 "nbformat_minor": 5
}
